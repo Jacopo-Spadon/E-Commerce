{
 "cells": [
  {
   "cell_type": "code",
   "execution_count": 13,
   "metadata": {},
   "outputs": [],
   "source": [
    "# Import libries\n",
    "\n",
    "import pandas as pd\n",
    "import sqlite3\n"
   ]
  },
  {
   "cell_type": "code",
   "execution_count": 3,
   "metadata": {},
   "outputs": [],
   "source": [
    "# Import dataframe\n",
    "\n",
    "db = sqlite3.connect(r'C:\\Users\\jspad\\Documents\\Code Academy\\Ecommerce 2020too\\ecommerce.db')\n",
    "dfs = pd.read_excel(r'C:\\Users\\jspad\\Documents\\Code Academy\\Sqlite Projects\\sales original.xlsx', sheet_name=None)\n",
    "for table, df in dfs.items():\n",
    "    df.to_sql(table, db, index=True)\n",
    "db.commit()\n",
    "db.close()"
   ]
  },
  {
   "cell_type": "code",
   "execution_count": 16,
   "metadata": {},
   "outputs": [],
   "source": [
    "#Import\n",
    "products = pd.read_excel(\n",
    "    r'C:\\Users\\jspad\\Documents\\Code Academy\\Sqlite Projects\\sales original.xlsx', \n",
    "    sheet_name='products', \n",
    "    index_col=0,\n",
    "    header=0)\n",
    "\n",
    "stock = pd.read_excel(\n",
    "    r'C:\\Users\\jspad\\Documents\\Code Academy\\Sqlite Projects\\sales original.xlsx', \n",
    "    sheet_name='stock',\n",
    "    index_col=0, \n",
    "    header=0)\n",
    "\n",
    "assessment = pd.read_excel(\n",
    "    r'C:\\Users\\jspad\\Documents\\Code Academy\\Sqlite Projects\\sales original.xlsx', \n",
    "    sheet_name='assessment',\n",
    "    index_col=0,\n",
    "    header=0)\n",
    "\n",
    "invoices = pd.read_excel(\n",
    "    r'C:\\Users\\jspad\\Documents\\Code Academy\\Sqlite Projects\\sales original.xlsx', \n",
    "    sheet_name='invoices',\n",
    "    index_col=0,\n",
    "    header=0)\n",
    "\n",
    "customers = pd.read_excel(\n",
    "    r'C:\\Users\\jspad\\Documents\\Code Academy\\Sqlite Projects\\sales original.xlsx', \n",
    "    sheet_name='customers',\n",
    "    index_col=0,\n",
    "    header=0)"
   ]
  },
  {
   "cell_type": "code",
   "execution_count": 19,
   "metadata": {},
   "outputs": [
    {
     "data": {
      "text/plain": [
       "<bound method DataFrame.info of                                                         title product_type\n",
       "ASIN                                                                      \n",
       "B07GWKDLGT  Nikon D3500 W/ AF-P DX NIKKOR 18-55mm f/3.5-5....  dslr camera\n",
       "B01MTLH408  Manfrotto Element Aluminum 5-Section Monopod, ...  dslr camera\n",
       "B0064FS7HI  STK LP-E8 Battery for Canon Rebel T5i, T3i, T2...  dslr camera\n",
       "B013JHU5YG  Lowepro Whistler BP 350 AW (Grey) . Profession...  dslr camera\n",
       "B06XWN9Q99  Samsung (MB-ME32GA/AM) 32GB 95MB/s (U1) microS...  dslr camera\n",
       "...                                                       ...          ...\n",
       "B00SB6SPA2  AUSDOM Lightweight Over-Ear Wired HiFi Stereo ...   smartphone\n",
       "B07TKTRX6B  Squish Qi Wireless Car Charger, Wireless Charg...   smartphone\n",
       "B07P8CK47X  Cell Phone Stand, 2Pack Cellphone Holder for D...   smartphone\n",
       "B07BDGPDKS  USB Certified Type C Cable - EVISTR 3PACK 10FT...   smartphone\n",
       "B018KIJGU8  Rode VideoMic Me Compact TRRS Cardioid Mini-Sh...   smartphone\n",
       "\n",
       "[554417 rows x 2 columns]>"
      ]
     },
     "execution_count": 19,
     "metadata": {},
     "output_type": "execute_result"
    }
   ],
   "source": [
    "products.info"
   ]
  },
  {
   "cell_type": "code",
   "execution_count": 21,
   "metadata": {},
   "outputs": [
    {
     "data": {
      "text/html": [
       "<div>\n",
       "<style scoped>\n",
       "    .dataframe tbody tr th:only-of-type {\n",
       "        vertical-align: middle;\n",
       "    }\n",
       "\n",
       "    .dataframe tbody tr th {\n",
       "        vertical-align: top;\n",
       "    }\n",
       "\n",
       "    .dataframe thead th {\n",
       "        text-align: right;\n",
       "    }\n",
       "</style>\n",
       "<table border=\"1\" class=\"dataframe\">\n",
       "  <thead>\n",
       "    <tr style=\"text-align: right;\">\n",
       "      <th></th>\n",
       "      <th>Country</th>\n",
       "    </tr>\n",
       "  </thead>\n",
       "  <tbody>\n",
       "    <tr>\n",
       "      <th>count</th>\n",
       "      <td>554417</td>\n",
       "    </tr>\n",
       "    <tr>\n",
       "      <th>unique</th>\n",
       "      <td>37</td>\n",
       "    </tr>\n",
       "    <tr>\n",
       "      <th>top</th>\n",
       "      <td>Germany</td>\n",
       "    </tr>\n",
       "    <tr>\n",
       "      <th>freq</th>\n",
       "      <td>508400</td>\n",
       "    </tr>\n",
       "  </tbody>\n",
       "</table>\n",
       "</div>"
      ],
      "text/plain": [
       "        Country\n",
       "count    554417\n",
       "unique       37\n",
       "top     Germany\n",
       "freq     508400"
      ]
     },
     "execution_count": 21,
     "metadata": {},
     "output_type": "execute_result"
    }
   ],
   "source": [
    "# Database Info and shape\n",
    "\n",
    "customers.head(50)\n",
    "customers.describe()"
   ]
  },
  {
   "cell_type": "code",
   "execution_count": null,
   "metadata": {},
   "outputs": [],
   "source": [
    "#%reset"
   ]
  }
 ],
 "metadata": {
  "interpreter": {
   "hash": "4ab92f9d484bccba0f50fef4945cfa2ff18621070182d288e11e1b27e8c09bd3"
  },
  "kernelspec": {
   "display_name": "Python 3.8.8 64-bit ('base': conda)",
   "name": "python3"
  },
  "language_info": {
   "codemirror_mode": {
    "name": "ipython",
    "version": 3
   },
   "file_extension": ".py",
   "mimetype": "text/x-python",
   "name": "python",
   "nbconvert_exporter": "python",
   "pygments_lexer": "ipython3",
   "version": "3.8.8"
  },
  "orig_nbformat": 4
 },
 "nbformat": 4,
 "nbformat_minor": 2
}
