{
 "cells": [
  {
   "cell_type": "code",
   "execution_count": 3,
   "metadata": {},
   "outputs": [],
   "source": [
    "# Import libries\n",
    "\n",
    "import pandas as pd\n",
    "import numpy as np\n",
    "import matplotlib as plt"
   ]
  },
  {
   "cell_type": "code",
   "execution_count": 4,
   "metadata": {},
   "outputs": [],
   "source": [
    "#Import\n",
    "products = pd.read_excel(\n",
    "    r'C:\\Users\\jspad\\Documents\\Code Academy\\Sqlite Projects\\sales original.xlsx', \n",
    "    sheet_name='products', \n",
    "    index_col=0,\n",
    "    header=0)\n",
    "\n",
    "stock = pd.read_excel(\n",
    "    r'C:\\Users\\jspad\\Documents\\Code Academy\\Sqlite Projects\\sales original.xlsx', \n",
    "    sheet_name='stock',\n",
    "    index_col=0, \n",
    "    header=0)\n",
    "\n",
    "assessment = pd.read_excel(\n",
    "    r'C:\\Users\\jspad\\Documents\\Code Academy\\Sqlite Projects\\sales original.xlsx', \n",
    "    sheet_name='assessment',\n",
    "    index_col=0,\n",
    "    header=0)\n",
    "\n",
    "invoices = pd.read_excel(\n",
    "    r'C:\\Users\\jspad\\Documents\\Code Academy\\Sqlite Projects\\sales original.xlsx', \n",
    "    sheet_name='invoices',\n",
    "    index_col=0,\n",
    "    header=0)\n",
    "\n",
    "customers = pd.read_excel(\n",
    "    r'C:\\Users\\jspad\\Documents\\Code Academy\\Sqlite Projects\\sales original.xlsx', \n",
    "    sheet_name='customers',\n",
    "    index_col=0,\n",
    "    header=0)"
   ]
  },
  {
   "cell_type": "code",
   "execution_count": 12,
   "metadata": {},
   "outputs": [],
   "source": [
    "# Importing with reset index\n",
    "\n",
    "products = pd.read_excel(r'C:\\Users\\jspad\\Documents\\Code Academy\\Sqlite Projects\\sales original.xlsx', \n",
    "    sheet_name='products', header=0)\n",
    "products.reset_index(inplace=True) # we are creating an index column because, in this particular sales dataset, no value is necessarily unique, except for the index\n",
    "products=products.rename(columns={\"index\": \"index_col\"}) # we need to change the name of the column to something else\n",
    "\n",
    "stock = pd.read_excel(r'C:\\Users\\jspad\\Documents\\Code Academy\\Sqlite Projects\\sales original.xlsx', \n",
    "    sheet_name='stock', header=0)\n",
    "stock.reset_index(inplace=True) \n",
    "stock=stock.rename(columns={\"index\": \"index_col\"}) \n",
    "\n",
    "assessment = pd.read_excel(r'C:\\Users\\jspad\\Documents\\Code Academy\\Sqlite Projects\\sales original.xlsx', \n",
    "    sheet_name='assessment', header=0)\n",
    "assessment.reset_index(inplace=True) \n",
    "assessment=assessment.rename(columns={\"index\": \"index_col\"}) \n",
    "\n",
    "invoices = pd.read_excel(r'C:\\Users\\jspad\\Documents\\Code Academy\\Sqlite Projects\\sales original.xlsx', \n",
    "    sheet_name='invoices', header=0)\n",
    "invoices.reset_index(inplace=True) \n",
    "invoices=invoices.rename(columns={\"index\": \"index_col\"}) \n",
    "\n",
    "customers = pd.read_excel(r'C:\\Users\\jspad\\Documents\\Code Academy\\Sqlite Projects\\sales original.xlsx', \n",
    "    sheet_name='customers', header=0)\n",
    "customers.reset_index(inplace=True) \n",
    "customers=customers.rename(columns={\"index\": \"index_col\"}) \n",
    "\n"
   ]
  },
  {
   "cell_type": "code",
   "execution_count": 13,
   "metadata": {},
   "outputs": [
    {
     "data": {
      "text/html": [
       "<div>\n",
       "<style scoped>\n",
       "    .dataframe tbody tr th:only-of-type {\n",
       "        vertical-align: middle;\n",
       "    }\n",
       "\n",
       "    .dataframe tbody tr th {\n",
       "        vertical-align: top;\n",
       "    }\n",
       "\n",
       "    .dataframe thead th {\n",
       "        text-align: right;\n",
       "    }\n",
       "</style>\n",
       "<table border=\"1\" class=\"dataframe\">\n",
       "  <thead>\n",
       "    <tr style=\"text-align: right;\">\n",
       "      <th></th>\n",
       "      <th>index_col</th>\n",
       "      <th>ASIN</th>\n",
       "      <th>title</th>\n",
       "      <th>product_type</th>\n",
       "    </tr>\n",
       "  </thead>\n",
       "  <tbody>\n",
       "    <tr>\n",
       "      <th>0</th>\n",
       "      <td>0</td>\n",
       "      <td>B07GWKDLGT</td>\n",
       "      <td>Nikon D3500 W/ AF-P DX NIKKOR 18-55mm f/3.5-5....</td>\n",
       "      <td>dslr camera</td>\n",
       "    </tr>\n",
       "    <tr>\n",
       "      <th>1</th>\n",
       "      <td>1</td>\n",
       "      <td>B01MTLH408</td>\n",
       "      <td>Manfrotto Element Aluminum 5-Section Monopod, ...</td>\n",
       "      <td>dslr camera</td>\n",
       "    </tr>\n",
       "    <tr>\n",
       "      <th>2</th>\n",
       "      <td>2</td>\n",
       "      <td>B0064FS7HI</td>\n",
       "      <td>STK LP-E8 Battery for Canon Rebel T5i, T3i, T2...</td>\n",
       "      <td>dslr camera</td>\n",
       "    </tr>\n",
       "    <tr>\n",
       "      <th>3</th>\n",
       "      <td>3</td>\n",
       "      <td>B013JHU5YG</td>\n",
       "      <td>Lowepro Whistler BP 350 AW (Grey) . Profession...</td>\n",
       "      <td>dslr camera</td>\n",
       "    </tr>\n",
       "    <tr>\n",
       "      <th>4</th>\n",
       "      <td>4</td>\n",
       "      <td>B06XWN9Q99</td>\n",
       "      <td>Samsung (MB-ME32GA/AM) 32GB 95MB/s (U1) microS...</td>\n",
       "      <td>dslr camera</td>\n",
       "    </tr>\n",
       "  </tbody>\n",
       "</table>\n",
       "</div>"
      ],
      "text/plain": [
       "   index_col        ASIN                                              title  \\\n",
       "0          0  B07GWKDLGT  Nikon D3500 W/ AF-P DX NIKKOR 18-55mm f/3.5-5....   \n",
       "1          1  B01MTLH408  Manfrotto Element Aluminum 5-Section Monopod, ...   \n",
       "2          2  B0064FS7HI  STK LP-E8 Battery for Canon Rebel T5i, T3i, T2...   \n",
       "3          3  B013JHU5YG  Lowepro Whistler BP 350 AW (Grey) . Profession...   \n",
       "4          4  B06XWN9Q99  Samsung (MB-ME32GA/AM) 32GB 95MB/s (U1) microS...   \n",
       "\n",
       "  product_type  \n",
       "0  dslr camera  \n",
       "1  dslr camera  \n",
       "2  dslr camera  \n",
       "3  dslr camera  \n",
       "4  dslr camera  "
      ]
     },
     "execution_count": 13,
     "metadata": {},
     "output_type": "execute_result"
    }
   ],
   "source": [
    "products.head()"
   ]
  },
  {
   "cell_type": "code",
   "execution_count": null,
   "metadata": {},
   "outputs": [],
   "source": [
    "products.info"
   ]
  },
  {
   "cell_type": "code",
   "execution_count": 7,
   "metadata": {},
   "outputs": [
    {
     "data": {
      "text/html": [
       "<div>\n",
       "<style scoped>\n",
       "    .dataframe tbody tr th:only-of-type {\n",
       "        vertical-align: middle;\n",
       "    }\n",
       "\n",
       "    .dataframe tbody tr th {\n",
       "        vertical-align: top;\n",
       "    }\n",
       "\n",
       "    .dataframe thead th {\n",
       "        text-align: right;\n",
       "    }\n",
       "</style>\n",
       "<table border=\"1\" class=\"dataframe\">\n",
       "  <thead>\n",
       "    <tr style=\"text-align: right;\">\n",
       "      <th></th>\n",
       "      <th>Country</th>\n",
       "    </tr>\n",
       "  </thead>\n",
       "  <tbody>\n",
       "    <tr>\n",
       "      <th>count</th>\n",
       "      <td>554417</td>\n",
       "    </tr>\n",
       "    <tr>\n",
       "      <th>unique</th>\n",
       "      <td>37</td>\n",
       "    </tr>\n",
       "    <tr>\n",
       "      <th>top</th>\n",
       "      <td>Germany</td>\n",
       "    </tr>\n",
       "    <tr>\n",
       "      <th>freq</th>\n",
       "      <td>508400</td>\n",
       "    </tr>\n",
       "  </tbody>\n",
       "</table>\n",
       "</div>"
      ],
      "text/plain": [
       "        Country\n",
       "count    554417\n",
       "unique       37\n",
       "top     Germany\n",
       "freq     508400"
      ]
     },
     "execution_count": 7,
     "metadata": {},
     "output_type": "execute_result"
    }
   ],
   "source": [
    "# Database Info and shape\n",
    "\n",
    "customers.head(50)\n",
    "customers.describe()"
   ]
  },
  {
   "cell_type": "code",
   "execution_count": 28,
   "metadata": {},
   "outputs": [
    {
     "name": "stdout",
     "output_type": "stream",
     "text": [
      "<class 'pandas.core.frame.DataFrame'>\n",
      "Int64Index: 554417 entries, 0 to 554416\n",
      "Data columns (total 14 columns):\n",
      " #   Column        Non-Null Count   Dtype         \n",
      "---  ------        --------------   -----         \n",
      " 0   title         554417 non-null  object        \n",
      " 1   product_type  554417 non-null  object        \n",
      " 2   StockCode     554417 non-null  object        \n",
      " 3   rating        554417 non-null  float64       \n",
      " 4   review_count  554417 non-null  int64         \n",
      " 5   ASIN_x        554417 non-null  object        \n",
      " 6   InvoiceNo     554417 non-null  object        \n",
      " 7   Quantity      554417 non-null  int64         \n",
      " 8   price         554417 non-null  float64       \n",
      " 9   total_sale    554417 non-null  float64       \n",
      " 10  invoice_date  554417 non-null  datetime64[ns]\n",
      " 11  invoice_time  554417 non-null  int64         \n",
      " 12  CustomerID_x  554417 non-null  object        \n",
      " 13  Country       554417 non-null  object        \n",
      "dtypes: datetime64[ns](1), float64(3), int64(3), object(7)\n",
      "memory usage: 63.4+ MB\n"
     ]
    }
   ],
   "source": [
    "part_df=pd.merge(products, stock, on=\"index_col\")\n",
    "part_df=part_df.drop(['ASIN_y'], axis=1)\n",
    "\n",
    "part2_df=pd.merge(part_df, assessment, on=\"index_col\")\n",
    "part2_df=part2_df.drop(['ASIN_x'], axis=1)\n",
    "\n",
    "part3_df=pd.merge(part2_df, invoices, on=\"index_col\")\n",
    "part3_df=part3_df.drop(['ASIN_y'], axis=1)\n",
    "\n",
    "df=pd.merge(part3_df, customers, on=\"index_col\")\n",
    "df=full_df.drop(['CustomerID_y', 'index_col'], axis=1)\n",
    "\n",
    "df.info()\n",
    "\n"
   ]
  },
  {
   "cell_type": "code",
   "execution_count": null,
   "metadata": {},
   "outputs": [],
   "source": [
    "#%reset"
   ]
  }
 ],
 "metadata": {
  "interpreter": {
   "hash": "4ab92f9d484bccba0f50fef4945cfa2ff18621070182d288e11e1b27e8c09bd3"
  },
  "kernelspec": {
   "display_name": "Python 3.8.8 64-bit ('base': conda)",
   "name": "python3"
  },
  "language_info": {
   "codemirror_mode": {
    "name": "ipython",
    "version": 3
   },
   "file_extension": ".py",
   "mimetype": "text/x-python",
   "name": "python",
   "nbconvert_exporter": "python",
   "pygments_lexer": "ipython3",
   "version": "3.8.8"
  },
  "orig_nbformat": 4
 },
 "nbformat": 4,
 "nbformat_minor": 2
}
